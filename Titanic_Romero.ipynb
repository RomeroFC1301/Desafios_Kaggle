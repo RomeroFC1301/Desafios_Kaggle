{
 "cells": [
  {
   "cell_type": "code",
   "execution_count": 76,
   "source": [
    "import pandas as pd #biblioteca para manipulação de dados e DataFrames\r\n",
    "import numpy as np #Biblioteca de álgebra linear\r\n",
    "#Importando bibliotecas gráficas e outras necessárias\r\n",
    "import matplotlib.pyplot as plt\r\n",
    "import seaborn as sns\r\n",
    "#importando as bibliotecas para os modelos de previsão\r\n",
    "from sklearn.model_selection import train_test_split\r\n",
    "from sklearn.ensemble import RandomForestClassifier\r\n",
    "from sklearn.model_selection import KFold #Retorna índices das linhas das divisões que precisamos usar para treina\r\n",
    "from sklearn.model_selection import RepeatedKFold\r\n",
    "#importando os modelos\r\n",
    "from sklearn import linear_model\r\n",
    "from sklearn.linear_model import LogisticRegression\r\n",
    "from sklearn.ensemble import RandomForestClassifier\r\n",
    "from sklearn.linear_model import Perceptron\r\n",
    "from sklearn.linear_model import SGDClassifier\r\n",
    "from sklearn.tree import DecisionTreeClassifier\r\n",
    "from sklearn.neighbors import KNeighborsClassifier\r\n",
    "from sklearn.svm import SVC, LinearSVC\r\n",
    "from sklearn.naive_bayes import GaussianNB"
   ],
   "outputs": [],
   "metadata": {}
  },
  {
   "cell_type": "code",
   "execution_count": 77,
   "source": [
    "#Importando os dados de treino\r\n",
    "df_train = pd.read_csv('train.csv')\r\n",
    "#Importando os dados de teste\r\n",
    "df_test = pd.read_csv('test.csv')"
   ],
   "outputs": [],
   "metadata": {}
  },
  {
   "cell_type": "code",
   "execution_count": 78,
   "source": [
    "#Ver as primeiras linhas do dataFrame\r\n",
    "df_train.head()"
   ],
   "outputs": [
    {
     "output_type": "execute_result",
     "data": {
      "text/plain": [
       "   PassengerId  Survived  Pclass  \\\n",
       "0            1         0       3   \n",
       "1            2         1       1   \n",
       "2            3         1       3   \n",
       "3            4         1       1   \n",
       "4            5         0       3   \n",
       "\n",
       "                                                Name     Sex   Age  SibSp  \\\n",
       "0                            Braund, Mr. Owen Harris    male  22.0      1   \n",
       "1  Cumings, Mrs. John Bradley (Florence Briggs Th...  female  38.0      1   \n",
       "2                             Heikkinen, Miss. Laina  female  26.0      0   \n",
       "3       Futrelle, Mrs. Jacques Heath (Lily May Peel)  female  35.0      1   \n",
       "4                           Allen, Mr. William Henry    male  35.0      0   \n",
       "\n",
       "   Parch            Ticket     Fare Cabin Embarked  \n",
       "0      0         A/5 21171   7.2500   NaN        S  \n",
       "1      0          PC 17599  71.2833   C85        C  \n",
       "2      0  STON/O2. 3101282   7.9250   NaN        S  \n",
       "3      0            113803  53.1000  C123        S  \n",
       "4      0            373450   8.0500   NaN        S  "
      ],
      "text/html": [
       "<div>\n",
       "<style scoped>\n",
       "    .dataframe tbody tr th:only-of-type {\n",
       "        vertical-align: middle;\n",
       "    }\n",
       "\n",
       "    .dataframe tbody tr th {\n",
       "        vertical-align: top;\n",
       "    }\n",
       "\n",
       "    .dataframe thead th {\n",
       "        text-align: right;\n",
       "    }\n",
       "</style>\n",
       "<table border=\"1\" class=\"dataframe\">\n",
       "  <thead>\n",
       "    <tr style=\"text-align: right;\">\n",
       "      <th></th>\n",
       "      <th>PassengerId</th>\n",
       "      <th>Survived</th>\n",
       "      <th>Pclass</th>\n",
       "      <th>Name</th>\n",
       "      <th>Sex</th>\n",
       "      <th>Age</th>\n",
       "      <th>SibSp</th>\n",
       "      <th>Parch</th>\n",
       "      <th>Ticket</th>\n",
       "      <th>Fare</th>\n",
       "      <th>Cabin</th>\n",
       "      <th>Embarked</th>\n",
       "    </tr>\n",
       "  </thead>\n",
       "  <tbody>\n",
       "    <tr>\n",
       "      <th>0</th>\n",
       "      <td>1</td>\n",
       "      <td>0</td>\n",
       "      <td>3</td>\n",
       "      <td>Braund, Mr. Owen Harris</td>\n",
       "      <td>male</td>\n",
       "      <td>22.0</td>\n",
       "      <td>1</td>\n",
       "      <td>0</td>\n",
       "      <td>A/5 21171</td>\n",
       "      <td>7.2500</td>\n",
       "      <td>NaN</td>\n",
       "      <td>S</td>\n",
       "    </tr>\n",
       "    <tr>\n",
       "      <th>1</th>\n",
       "      <td>2</td>\n",
       "      <td>1</td>\n",
       "      <td>1</td>\n",
       "      <td>Cumings, Mrs. John Bradley (Florence Briggs Th...</td>\n",
       "      <td>female</td>\n",
       "      <td>38.0</td>\n",
       "      <td>1</td>\n",
       "      <td>0</td>\n",
       "      <td>PC 17599</td>\n",
       "      <td>71.2833</td>\n",
       "      <td>C85</td>\n",
       "      <td>C</td>\n",
       "    </tr>\n",
       "    <tr>\n",
       "      <th>2</th>\n",
       "      <td>3</td>\n",
       "      <td>1</td>\n",
       "      <td>3</td>\n",
       "      <td>Heikkinen, Miss. Laina</td>\n",
       "      <td>female</td>\n",
       "      <td>26.0</td>\n",
       "      <td>0</td>\n",
       "      <td>0</td>\n",
       "      <td>STON/O2. 3101282</td>\n",
       "      <td>7.9250</td>\n",
       "      <td>NaN</td>\n",
       "      <td>S</td>\n",
       "    </tr>\n",
       "    <tr>\n",
       "      <th>3</th>\n",
       "      <td>4</td>\n",
       "      <td>1</td>\n",
       "      <td>1</td>\n",
       "      <td>Futrelle, Mrs. Jacques Heath (Lily May Peel)</td>\n",
       "      <td>female</td>\n",
       "      <td>35.0</td>\n",
       "      <td>1</td>\n",
       "      <td>0</td>\n",
       "      <td>113803</td>\n",
       "      <td>53.1000</td>\n",
       "      <td>C123</td>\n",
       "      <td>S</td>\n",
       "    </tr>\n",
       "    <tr>\n",
       "      <th>4</th>\n",
       "      <td>5</td>\n",
       "      <td>0</td>\n",
       "      <td>3</td>\n",
       "      <td>Allen, Mr. William Henry</td>\n",
       "      <td>male</td>\n",
       "      <td>35.0</td>\n",
       "      <td>0</td>\n",
       "      <td>0</td>\n",
       "      <td>373450</td>\n",
       "      <td>8.0500</td>\n",
       "      <td>NaN</td>\n",
       "      <td>S</td>\n",
       "    </tr>\n",
       "  </tbody>\n",
       "</table>\n",
       "</div>"
      ]
     },
     "metadata": {},
     "execution_count": 78
    }
   ],
   "metadata": {}
  },
  {
   "cell_type": "markdown",
   "source": [
    "**Obs.:** O conjunto de treinamento tem 891 exemplos e 11 características + a variável de destino (Survived) . 2 dos recursos são floats, 5 são inteiros e 5 são objetos. Abaixo listei os recursos com uma breve descrição:\r\n",
    "\r\n",
    "* survival:   Sobrevivente\r\n",
    "* PassengerId: ID único de um passageiro\r\n",
    "* Pclass: Classe de bilhetes  \r\n",
    "* Sex:    Sexo\r\n",
    "* Age:    Idade em anos   \r\n",
    "* Sibsp:  Número de irmãos / cônjuges a bordo do Titanic  \r\n",
    "* Parch:  Número de pais / filhos a bordo do Titanic  \r\n",
    "* Ticket: Numero do bilhete   \r\n",
    "* Fare:   Tarifa de passageiros   \r\n",
    "* Cabin:  Número de cabine    \r\n",
    "* Embarked:   Porto de embarcação"
   ],
   "metadata": {}
  },
  {
   "cell_type": "markdown",
   "source": [
    "# Explorando e Analisando os dados"
   ],
   "metadata": {}
  },
  {
   "cell_type": "code",
   "execution_count": 79,
   "source": [
    "#Vendo as informações sobre as variáveis\r\n",
    "df_train.info()"
   ],
   "outputs": [
    {
     "output_type": "stream",
     "name": "stdout",
     "text": [
      "<class 'pandas.core.frame.DataFrame'>\n",
      "RangeIndex: 891 entries, 0 to 890\n",
      "Data columns (total 12 columns):\n",
      " #   Column       Non-Null Count  Dtype  \n",
      "---  ------       --------------  -----  \n",
      " 0   PassengerId  891 non-null    int64  \n",
      " 1   Survived     891 non-null    int64  \n",
      " 2   Pclass       891 non-null    int64  \n",
      " 3   Name         891 non-null    object \n",
      " 4   Sex          891 non-null    object \n",
      " 5   Age          714 non-null    float64\n",
      " 6   SibSp        891 non-null    int64  \n",
      " 7   Parch        891 non-null    int64  \n",
      " 8   Ticket       891 non-null    object \n",
      " 9   Fare         891 non-null    float64\n",
      " 10  Cabin        204 non-null    object \n",
      " 11  Embarked     889 non-null    object \n",
      "dtypes: float64(2), int64(5), object(5)\n",
      "memory usage: 83.7+ KB\n"
     ]
    }
   ],
   "metadata": {}
  },
  {
   "cell_type": "markdown",
   "source": [
    "**Obs.:** Observamos 891 valores com 11 características e a saída (Survived).\r\n",
    "* 2 são do tipo float;\r\n",
    "* 5 do tipo inteira;\r\n",
    "* 5 do tipo objeto.\r\n",
    "\r\n",
    "É possível também obter uma análise estatística das variáveis"
   ],
   "metadata": {}
  },
  {
   "cell_type": "code",
   "execution_count": 80,
   "source": [
    "df_train.describe(include='all')"
   ],
   "outputs": [
    {
     "output_type": "execute_result",
     "data": {
      "text/plain": [
       "        PassengerId    Survived      Pclass                            Name  \\\n",
       "count    891.000000  891.000000  891.000000                             891   \n",
       "unique          NaN         NaN         NaN                             891   \n",
       "top             NaN         NaN         NaN  Asplund, Miss. Lillian Gertrud   \n",
       "freq            NaN         NaN         NaN                               1   \n",
       "mean     446.000000    0.383838    2.308642                             NaN   \n",
       "std      257.353842    0.486592    0.836071                             NaN   \n",
       "min        1.000000    0.000000    1.000000                             NaN   \n",
       "25%      223.500000    0.000000    2.000000                             NaN   \n",
       "50%      446.000000    0.000000    3.000000                             NaN   \n",
       "75%      668.500000    1.000000    3.000000                             NaN   \n",
       "max      891.000000    1.000000    3.000000                             NaN   \n",
       "\n",
       "         Sex         Age       SibSp       Parch    Ticket        Fare  \\\n",
       "count    891  714.000000  891.000000  891.000000       891  891.000000   \n",
       "unique     2         NaN         NaN         NaN       681         NaN   \n",
       "top     male         NaN         NaN         NaN  CA. 2343         NaN   \n",
       "freq     577         NaN         NaN         NaN         7         NaN   \n",
       "mean     NaN   29.699118    0.523008    0.381594       NaN   32.204208   \n",
       "std      NaN   14.526497    1.102743    0.806057       NaN   49.693429   \n",
       "min      NaN    0.420000    0.000000    0.000000       NaN    0.000000   \n",
       "25%      NaN   20.125000    0.000000    0.000000       NaN    7.910400   \n",
       "50%      NaN   28.000000    0.000000    0.000000       NaN   14.454200   \n",
       "75%      NaN   38.000000    1.000000    0.000000       NaN   31.000000   \n",
       "max      NaN   80.000000    8.000000    6.000000       NaN  512.329200   \n",
       "\n",
       "              Cabin Embarked  \n",
       "count           204      889  \n",
       "unique          147        3  \n",
       "top     C23 C25 C27        S  \n",
       "freq              4      644  \n",
       "mean            NaN      NaN  \n",
       "std             NaN      NaN  \n",
       "min             NaN      NaN  \n",
       "25%             NaN      NaN  \n",
       "50%             NaN      NaN  \n",
       "75%             NaN      NaN  \n",
       "max             NaN      NaN  "
      ],
      "text/html": [
       "<div>\n",
       "<style scoped>\n",
       "    .dataframe tbody tr th:only-of-type {\n",
       "        vertical-align: middle;\n",
       "    }\n",
       "\n",
       "    .dataframe tbody tr th {\n",
       "        vertical-align: top;\n",
       "    }\n",
       "\n",
       "    .dataframe thead th {\n",
       "        text-align: right;\n",
       "    }\n",
       "</style>\n",
       "<table border=\"1\" class=\"dataframe\">\n",
       "  <thead>\n",
       "    <tr style=\"text-align: right;\">\n",
       "      <th></th>\n",
       "      <th>PassengerId</th>\n",
       "      <th>Survived</th>\n",
       "      <th>Pclass</th>\n",
       "      <th>Name</th>\n",
       "      <th>Sex</th>\n",
       "      <th>Age</th>\n",
       "      <th>SibSp</th>\n",
       "      <th>Parch</th>\n",
       "      <th>Ticket</th>\n",
       "      <th>Fare</th>\n",
       "      <th>Cabin</th>\n",
       "      <th>Embarked</th>\n",
       "    </tr>\n",
       "  </thead>\n",
       "  <tbody>\n",
       "    <tr>\n",
       "      <th>count</th>\n",
       "      <td>891.000000</td>\n",
       "      <td>891.000000</td>\n",
       "      <td>891.000000</td>\n",
       "      <td>891</td>\n",
       "      <td>891</td>\n",
       "      <td>714.000000</td>\n",
       "      <td>891.000000</td>\n",
       "      <td>891.000000</td>\n",
       "      <td>891</td>\n",
       "      <td>891.000000</td>\n",
       "      <td>204</td>\n",
       "      <td>889</td>\n",
       "    </tr>\n",
       "    <tr>\n",
       "      <th>unique</th>\n",
       "      <td>NaN</td>\n",
       "      <td>NaN</td>\n",
       "      <td>NaN</td>\n",
       "      <td>891</td>\n",
       "      <td>2</td>\n",
       "      <td>NaN</td>\n",
       "      <td>NaN</td>\n",
       "      <td>NaN</td>\n",
       "      <td>681</td>\n",
       "      <td>NaN</td>\n",
       "      <td>147</td>\n",
       "      <td>3</td>\n",
       "    </tr>\n",
       "    <tr>\n",
       "      <th>top</th>\n",
       "      <td>NaN</td>\n",
       "      <td>NaN</td>\n",
       "      <td>NaN</td>\n",
       "      <td>Asplund, Miss. Lillian Gertrud</td>\n",
       "      <td>male</td>\n",
       "      <td>NaN</td>\n",
       "      <td>NaN</td>\n",
       "      <td>NaN</td>\n",
       "      <td>CA. 2343</td>\n",
       "      <td>NaN</td>\n",
       "      <td>C23 C25 C27</td>\n",
       "      <td>S</td>\n",
       "    </tr>\n",
       "    <tr>\n",
       "      <th>freq</th>\n",
       "      <td>NaN</td>\n",
       "      <td>NaN</td>\n",
       "      <td>NaN</td>\n",
       "      <td>1</td>\n",
       "      <td>577</td>\n",
       "      <td>NaN</td>\n",
       "      <td>NaN</td>\n",
       "      <td>NaN</td>\n",
       "      <td>7</td>\n",
       "      <td>NaN</td>\n",
       "      <td>4</td>\n",
       "      <td>644</td>\n",
       "    </tr>\n",
       "    <tr>\n",
       "      <th>mean</th>\n",
       "      <td>446.000000</td>\n",
       "      <td>0.383838</td>\n",
       "      <td>2.308642</td>\n",
       "      <td>NaN</td>\n",
       "      <td>NaN</td>\n",
       "      <td>29.699118</td>\n",
       "      <td>0.523008</td>\n",
       "      <td>0.381594</td>\n",
       "      <td>NaN</td>\n",
       "      <td>32.204208</td>\n",
       "      <td>NaN</td>\n",
       "      <td>NaN</td>\n",
       "    </tr>\n",
       "    <tr>\n",
       "      <th>std</th>\n",
       "      <td>257.353842</td>\n",
       "      <td>0.486592</td>\n",
       "      <td>0.836071</td>\n",
       "      <td>NaN</td>\n",
       "      <td>NaN</td>\n",
       "      <td>14.526497</td>\n",
       "      <td>1.102743</td>\n",
       "      <td>0.806057</td>\n",
       "      <td>NaN</td>\n",
       "      <td>49.693429</td>\n",
       "      <td>NaN</td>\n",
       "      <td>NaN</td>\n",
       "    </tr>\n",
       "    <tr>\n",
       "      <th>min</th>\n",
       "      <td>1.000000</td>\n",
       "      <td>0.000000</td>\n",
       "      <td>1.000000</td>\n",
       "      <td>NaN</td>\n",
       "      <td>NaN</td>\n",
       "      <td>0.420000</td>\n",
       "      <td>0.000000</td>\n",
       "      <td>0.000000</td>\n",
       "      <td>NaN</td>\n",
       "      <td>0.000000</td>\n",
       "      <td>NaN</td>\n",
       "      <td>NaN</td>\n",
       "    </tr>\n",
       "    <tr>\n",
       "      <th>25%</th>\n",
       "      <td>223.500000</td>\n",
       "      <td>0.000000</td>\n",
       "      <td>2.000000</td>\n",
       "      <td>NaN</td>\n",
       "      <td>NaN</td>\n",
       "      <td>20.125000</td>\n",
       "      <td>0.000000</td>\n",
       "      <td>0.000000</td>\n",
       "      <td>NaN</td>\n",
       "      <td>7.910400</td>\n",
       "      <td>NaN</td>\n",
       "      <td>NaN</td>\n",
       "    </tr>\n",
       "    <tr>\n",
       "      <th>50%</th>\n",
       "      <td>446.000000</td>\n",
       "      <td>0.000000</td>\n",
       "      <td>3.000000</td>\n",
       "      <td>NaN</td>\n",
       "      <td>NaN</td>\n",
       "      <td>28.000000</td>\n",
       "      <td>0.000000</td>\n",
       "      <td>0.000000</td>\n",
       "      <td>NaN</td>\n",
       "      <td>14.454200</td>\n",
       "      <td>NaN</td>\n",
       "      <td>NaN</td>\n",
       "    </tr>\n",
       "    <tr>\n",
       "      <th>75%</th>\n",
       "      <td>668.500000</td>\n",
       "      <td>1.000000</td>\n",
       "      <td>3.000000</td>\n",
       "      <td>NaN</td>\n",
       "      <td>NaN</td>\n",
       "      <td>38.000000</td>\n",
       "      <td>1.000000</td>\n",
       "      <td>0.000000</td>\n",
       "      <td>NaN</td>\n",
       "      <td>31.000000</td>\n",
       "      <td>NaN</td>\n",
       "      <td>NaN</td>\n",
       "    </tr>\n",
       "    <tr>\n",
       "      <th>max</th>\n",
       "      <td>891.000000</td>\n",
       "      <td>1.000000</td>\n",
       "      <td>3.000000</td>\n",
       "      <td>NaN</td>\n",
       "      <td>NaN</td>\n",
       "      <td>80.000000</td>\n",
       "      <td>8.000000</td>\n",
       "      <td>6.000000</td>\n",
       "      <td>NaN</td>\n",
       "      <td>512.329200</td>\n",
       "      <td>NaN</td>\n",
       "      <td>NaN</td>\n",
       "    </tr>\n",
       "  </tbody>\n",
       "</table>\n",
       "</div>"
      ]
     },
     "metadata": {},
     "execution_count": 80
    }
   ],
   "metadata": {}
  },
  {
   "cell_type": "markdown",
   "source": [
    "**Obs.1:** Há algumas características que somente observamos nas variáveis numéricas (como média, desvio padrão, etc.). Por outro lado, características como valor único e frequência, nós observamos apenas nas variáveis objeto.\r\n",
    "\r\n",
    "**Obs.2:** Podemos ver que 38% do conjunto de treino sobreviveu ao Titanic e que havia passageiros entre 0,4 a 80 anos."
   ],
   "metadata": {}
  },
  {
   "cell_type": "code",
   "execution_count": 81,
   "source": [
    "#Avaliando dados ausentes\r\n",
    "df_train.isnull().sum()"
   ],
   "outputs": [
    {
     "output_type": "execute_result",
     "data": {
      "text/plain": [
       "PassengerId      0\n",
       "Survived         0\n",
       "Pclass           0\n",
       "Name             0\n",
       "Sex              0\n",
       "Age            177\n",
       "SibSp            0\n",
       "Parch            0\n",
       "Ticket           0\n",
       "Fare             0\n",
       "Cabin          687\n",
       "Embarked         2\n",
       "dtype: int64"
      ]
     },
     "metadata": {},
     "execution_count": 81
    }
   ],
   "metadata": {}
  },
  {
   "cell_type": "markdown",
   "source": [
    "**Obs.1**: Podemos notar que há muitos dados ausentes na variável Cabin, por isso, essa variável será desconsiderada como característica do modelo de predição."
   ],
   "metadata": {}
  },
  {
   "cell_type": "markdown",
   "source": [
    "# Avaliando idade e Sexo:"
   ],
   "metadata": {}
  },
  {
   "cell_type": "code",
   "execution_count": 82,
   "source": [
    "#Separando os dados das mulheres\r\n",
    "mulheres = df_train[df_train['Sex']=='female']\r\n",
    "homens = df_train[df_train['Sex']=='male']\r\n",
    "fig, axes = plt.subplots(1,2,figsize=(10,6))\r\n",
    "axes[0].hist(mulheres[mulheres['Survived']==1].Age.dropna(),bins=20)\r\n",
    "axes[0].hist(mulheres[mulheres['Survived']==0].Age.dropna(),bins=20)\r\n",
    "axes[0].set_xlabel('Idade')\r\n",
    "axes[0].legend(['Sobreviventes','Mortos'])\r\n",
    "axes[0].set_title('Mulheres')\r\n",
    "axes[1].hist(homens[homens['Survived']==0].Age.dropna(),bins=20)\r\n",
    "axes[1].hist(homens[homens['Survived']==1].Age.dropna(),bins=20)\r\n",
    "axes[1].set_xlabel('Idade')\r\n",
    "axes[1].legend(['Mortos','Sobreviventes'])\r\n",
    "axes[1].set_title('Homens')\r\n"
   ],
   "outputs": [
    {
     "output_type": "execute_result",
     "data": {
      "text/plain": [
       "Text(0.5, 1.0, 'Homens')"
      ]
     },
     "metadata": {},
     "execution_count": 82
    },
    {
     "output_type": "display_data",
     "data": {
      "text/plain": [
       "<Figure size 720x432 with 2 Axes>"
      ],
      "image/png": "[encoded data removed]"
     },
     "metadata": {
      "needs_background": "light"
     }
    }
   ],
   "metadata": {}
  },
  {
   "cell_type": "markdown",
   "source": [
    "**Obs.1:** Observa-se que mais mulheres sobrevivem entre 20 a 30 anos (o que também é um pouco visto nos homens) e também há sobreviventes em ambos os gêneros para pessoas de pouca idade (crianças).\r\n",
    "\r\n",
    "**Obs.2:** Como crianças e mulheres são salvos primeiro em acidentes desse tipo, é bem provável que idade e Sexo sejam bastante influentes na previsão de sobreviventes."
   ],
   "metadata": {}
  },
  {
   "cell_type": "markdown",
   "source": [
    "# Avaliando embarcação\r\n",
    "\r\n",
    "*Qual dos 3 portos teve maior porcentagem de pessoas sobreviventes?"
   ],
   "metadata": {}
  },
  {
   "cell_type": "code",
   "execution_count": 83,
   "source": [
    "#Quais portos exitem?\r\n",
    "df_train['Embarked'].value_counts()"
   ],
   "outputs": [
    {
     "output_type": "execute_result",
     "data": {
      "text/plain": [
       "S    644\n",
       "C    168\n",
       "Q     77\n",
       "Name: Embarked, dtype: int64"
      ]
     },
     "metadata": {},
     "execution_count": 83
    }
   ],
   "metadata": {}
  },
  {
   "cell_type": "code",
   "execution_count": 84,
   "source": [
    "#Separando os dados das mulheres\r\n",
    "porto_S = df_train[df_train['Embarked']=='S']\r\n",
    "porto_C = df_train[df_train['Embarked']=='C']\r\n",
    "porto_Q = df_train[df_train['Embarked']=='Q']\r\n",
    "fig, axes = plt.subplots(1,2,figsize=(10,6))\r\n",
    "axes[0].bar(['S','C','Q'],[(porto_S[porto_S['Survived']==1].Survived.count()/(porto_S['Survived'].count()))*100,(porto_C[porto_C['Survived']==1].Survived.count()/(porto_C['Survived'].count()))*100,(porto_Q[porto_Q['Survived']==1].Survived.count()/(porto_Q['Survived'].count()))*100])\r\n",
    "axes[0].set_title('Porcentagem de sobreviventes')\r\n",
    "axes[1].bar(['S','C','Q'],[(porto_S[porto_S['Survived']==0].Survived.count()/(porto_S['Survived'].count()))*100,(porto_C[porto_C['Survived']==0].Survived.count()/(porto_C['Survived'].count()))*100,(porto_Q[porto_Q['Survived']==0].Survived.count()/(porto_Q['Survived'].count()))*100])\r\n",
    "axes[1].set_title('Porcentagem de mortos')\r\n"
   ],
   "outputs": [
    {
     "output_type": "execute_result",
     "data": {
      "text/plain": [
       "Text(0.5, 1.0, 'Porcentagem de mortos')"
      ]
     },
     "metadata": {},
     "execution_count": 84
    },
    {
     "output_type": "display_data",
     "data": {
      "text/plain": [
       "<Figure size 720x432 with 2 Axes>"
      ],
      "image/png": "[encoded data removed]"
     },
     "metadata": {
      "needs_background": "light"
     }
    }
   ],
   "metadata": {}
  },
  {
   "cell_type": "markdown",
   "source": [
    "**Obs.1:** É possível notar que diferentes portos influenciam na porcentagem de pessoas que sobreviveram ou não."
   ],
   "metadata": {}
  },
  {
   "cell_type": "markdown",
   "source": [
    "# Avaliando as correlações entre as variáveis numéricas"
   ],
   "metadata": {}
  },
  {
   "cell_type": "code",
   "execution_count": 85,
   "source": [
    "df_train.corr()"
   ],
   "outputs": [
    {
     "output_type": "execute_result",
     "data": {
      "text/plain": [
       "             PassengerId  Survived    Pclass       Age     SibSp     Parch  \\\n",
       "PassengerId     1.000000 -0.005007 -0.035144  0.036847 -0.057527 -0.001652   \n",
       "Survived       -0.005007  1.000000 -0.338481 -0.077221 -0.035322  0.081629   \n",
       "Pclass         -0.035144 -0.338481  1.000000 -0.369226  0.083081  0.018443   \n",
       "Age             0.036847 -0.077221 -0.369226  1.000000 -0.308247 -0.189119   \n",
       "SibSp          -0.057527 -0.035322  0.083081 -0.308247  1.000000  0.414838   \n",
       "Parch          -0.001652  0.081629  0.018443 -0.189119  0.414838  1.000000   \n",
       "Fare            0.012658  0.257307 -0.549500  0.096067  0.159651  0.216225   \n",
       "\n",
       "                 Fare  \n",
       "PassengerId  0.012658  \n",
       "Survived     0.257307  \n",
       "Pclass      -0.549500  \n",
       "Age          0.096067  \n",
       "SibSp        0.159651  \n",
       "Parch        0.216225  \n",
       "Fare         1.000000  "
      ],
      "text/html": [
       "<div>\n",
       "<style scoped>\n",
       "    .dataframe tbody tr th:only-of-type {\n",
       "        vertical-align: middle;\n",
       "    }\n",
       "\n",
       "    .dataframe tbody tr th {\n",
       "        vertical-align: top;\n",
       "    }\n",
       "\n",
       "    .dataframe thead th {\n",
       "        text-align: right;\n",
       "    }\n",
       "</style>\n",
       "<table border=\"1\" class=\"dataframe\">\n",
       "  <thead>\n",
       "    <tr style=\"text-align: right;\">\n",
       "      <th></th>\n",
       "      <th>PassengerId</th>\n",
       "      <th>Survived</th>\n",
       "      <th>Pclass</th>\n",
       "      <th>Age</th>\n",
       "      <th>SibSp</th>\n",
       "      <th>Parch</th>\n",
       "      <th>Fare</th>\n",
       "    </tr>\n",
       "  </thead>\n",
       "  <tbody>\n",
       "    <tr>\n",
       "      <th>PassengerId</th>\n",
       "      <td>1.000000</td>\n",
       "      <td>-0.005007</td>\n",
       "      <td>-0.035144</td>\n",
       "      <td>0.036847</td>\n",
       "      <td>-0.057527</td>\n",
       "      <td>-0.001652</td>\n",
       "      <td>0.012658</td>\n",
       "    </tr>\n",
       "    <tr>\n",
       "      <th>Survived</th>\n",
       "      <td>-0.005007</td>\n",
       "      <td>1.000000</td>\n",
       "      <td>-0.338481</td>\n",
       "      <td>-0.077221</td>\n",
       "      <td>-0.035322</td>\n",
       "      <td>0.081629</td>\n",
       "      <td>0.257307</td>\n",
       "    </tr>\n",
       "    <tr>\n",
       "      <th>Pclass</th>\n",
       "      <td>-0.035144</td>\n",
       "      <td>-0.338481</td>\n",
       "      <td>1.000000</td>\n",
       "      <td>-0.369226</td>\n",
       "      <td>0.083081</td>\n",
       "      <td>0.018443</td>\n",
       "      <td>-0.549500</td>\n",
       "    </tr>\n",
       "    <tr>\n",
       "      <th>Age</th>\n",
       "      <td>0.036847</td>\n",
       "      <td>-0.077221</td>\n",
       "      <td>-0.369226</td>\n",
       "      <td>1.000000</td>\n",
       "      <td>-0.308247</td>\n",
       "      <td>-0.189119</td>\n",
       "      <td>0.096067</td>\n",
       "    </tr>\n",
       "    <tr>\n",
       "      <th>SibSp</th>\n",
       "      <td>-0.057527</td>\n",
       "      <td>-0.035322</td>\n",
       "      <td>0.083081</td>\n",
       "      <td>-0.308247</td>\n",
       "      <td>1.000000</td>\n",
       "      <td>0.414838</td>\n",
       "      <td>0.159651</td>\n",
       "    </tr>\n",
       "    <tr>\n",
       "      <th>Parch</th>\n",
       "      <td>-0.001652</td>\n",
       "      <td>0.081629</td>\n",
       "      <td>0.018443</td>\n",
       "      <td>-0.189119</td>\n",
       "      <td>0.414838</td>\n",
       "      <td>1.000000</td>\n",
       "      <td>0.216225</td>\n",
       "    </tr>\n",
       "    <tr>\n",
       "      <th>Fare</th>\n",
       "      <td>0.012658</td>\n",
       "      <td>0.257307</td>\n",
       "      <td>-0.549500</td>\n",
       "      <td>0.096067</td>\n",
       "      <td>0.159651</td>\n",
       "      <td>0.216225</td>\n",
       "      <td>1.000000</td>\n",
       "    </tr>\n",
       "  </tbody>\n",
       "</table>\n",
       "</div>"
      ]
     },
     "metadata": {},
     "execution_count": 85
    }
   ],
   "metadata": {}
  },
  {
   "cell_type": "markdown",
   "source": [
    "# Pré-Processamento dos Dados\r\n",
    "\r\n",
    "Precisaremos transformar os dados categóricos em numéricos, substituir dados ausentes e remover agumas variáveis."
   ],
   "metadata": {}
  },
  {
   "cell_type": "code",
   "execution_count": 86,
   "source": [
    "#Como transformar o sex\r\n",
    "def transformar_sexo(valor):\r\n",
    "    if valor == 'female':\r\n",
    "        return 1\r\n",
    "    else:\r\n",
    "        return 0\r\n",
    "\r\n",
    "#Criar a coluna 'Sex_binário':\r\n",
    "df_train['Sex_binario'] = df_train['Sex'].map(transformar_sexo) #map aplica linha a linha"
   ],
   "outputs": [],
   "metadata": {}
  },
  {
   "cell_type": "code",
   "execution_count": 87,
   "source": [
    "df_test['Sex_binario'] = df_test['Sex'].map(transformar_sexo) #map aplica linha a linha"
   ],
   "outputs": [],
   "metadata": {}
  },
  {
   "cell_type": "code",
   "execution_count": 88,
   "source": [
    "#Variáveis sobre os títulos\r\n",
    "\r\n",
    "#Mulheres\r\n",
    "df_train['Nome_contem_Miss'] = df_train['Name'].str.contains('Miss').astype(int)\r\n",
    "df_train['Nome_contem_Mrs'] = df_train['Name'].str.contains('Mrs').astype(int)\r\n",
    "\r\n",
    "#Homens\r\n",
    "df_train['Nome_contem_Master'] = df_train['Name'].str.contains('Master').astype(int)\r\n",
    "df_train['Nome_contem_Col'] = df_train['Name'].str.contains('Col').astype(int)\r\n",
    "df_train['Nome_contem_Major'] = df_train['Name'].str.contains('Major').astype(int)\r\n",
    "df_train['Nome_contem_Mr'] = df_train['Name'].str.contains('Mr').astype(int)\r\n",
    "#Mulheres\r\n",
    "df_test['Nome_contem_Miss'] = df_test['Name'].str.contains('Miss').astype(int)\r\n",
    "df_test['Nome_contem_Mrs'] = df_test['Name'].str.contains('Mrs').astype(int)\r\n",
    "\r\n",
    "#Homens\r\n",
    "df_test['Nome_contem_Master'] = df_test['Name'].str.contains('Master').astype(int)\r\n",
    "df_test['Nome_contem_Col'] = df_test['Name'].str.contains('Col').astype(int)\r\n",
    "df_test['Nome_contem_Major'] = df_test['Name'].str.contains('Major').astype(int)\r\n",
    "df_test['Nome_contem_Mr'] = df_test['Name'].str.contains('Mr').astype(int)"
   ],
   "outputs": [],
   "metadata": {}
  },
  {
   "cell_type": "code",
   "execution_count": 89,
   "source": [
    "#O valor comum então é S:\r\n",
    "commom_value = 'S'\r\n",
    "#Preenchendo os valores nulos com a string 'S'\r\n",
    "df_train['Embarked'].fillna(commom_value,inplace=True)"
   ],
   "outputs": [],
   "metadata": {}
  },
  {
   "cell_type": "code",
   "execution_count": 90,
   "source": [
    "#Variável embarked (Obs.: Podemos tirar uma, pois se ela não embarcou em C ou S, embarcom em Q)\r\n",
    "df_train['Embarked_S'] = (df_train['Embarked'] == 'S').astype(int)\r\n",
    "df_train['Embarked_C'] = (df_train['Embarked'] == 'C').astype(int)\r\n",
    "\r\n",
    "#Variável embarked (Obs.: Podemos tirar uma, pois se ela não embarcou em C ou S, embarcom em Q)\r\n",
    "df_test['Embarked_S'] = (df_test['Embarked'] == 'S').astype(int)\r\n",
    "df_test['Embarked_C'] = (df_test['Embarked'] == 'C').astype(int)"
   ],
   "outputs": [],
   "metadata": {}
  },
  {
   "cell_type": "code",
   "execution_count": 91,
   "source": [
    "#Substituindo a Fare nula pela média\r\n",
    "df_test['Fare'].fillna(df_test['Fare'].mean(),inplace = True)"
   ],
   "outputs": [],
   "metadata": {}
  },
  {
   "cell_type": "code",
   "execution_count": 92,
   "source": [
    "#Convertendo 'Fare' de float para inteiro\r\n",
    "df_train['Fare']= df_train['Fare'].astype(int)\r\n",
    "df_test['Fare']= df_test['Fare'].astype(int)"
   ],
   "outputs": [],
   "metadata": {}
  },
  {
   "cell_type": "code",
   "execution_count": 93,
   "source": [
    "#substituindo os valores nulos por valores aleatórios\r\n",
    "data = [df_train,df_test]\r\n",
    "for dataset in data:\r\n",
    "    media = df_train['Age'].mean()\r\n",
    "    dvp = df_test['Age'].std()\r\n",
    "    is_null = dataset['Age'].isnull().sum()\r\n",
    "\r\n",
    "    #Computar números aleatórios entre a média, o dvp e o is_null\r\n",
    "    rand_age = np.random.randint(media-dvp, media+dvp, size=is_null)\r\n",
    "\r\n",
    "    #Preencher valores NaN na coluna idade com valores aleatórios gerados\r\n",
    "    age_slice = dataset['Age'].copy()\r\n",
    "    age_slice[np.isnan(age_slice)] = rand_age\r\n",
    "    dataset['Age'] = age_slice\r\n",
    "    dataset['Age'] = df_train['Age'].astype(int)"
   ],
   "outputs": [],
   "metadata": {}
  },
  {
   "cell_type": "code",
   "execution_count": 94,
   "source": [
    "df_train.info()"
   ],
   "outputs": [
    {
     "output_type": "stream",
     "name": "stdout",
     "text": [
      "<class 'pandas.core.frame.DataFrame'>\n",
      "RangeIndex: 891 entries, 0 to 890\n",
      "Data columns (total 21 columns):\n",
      " #   Column              Non-Null Count  Dtype \n",
      "---  ------              --------------  ----- \n",
      " 0   PassengerId         891 non-null    int64 \n",
      " 1   Survived            891 non-null    int64 \n",
      " 2   Pclass              891 non-null    int64 \n",
      " 3   Name                891 non-null    object\n",
      " 4   Sex                 891 non-null    object\n",
      " 5   Age                 891 non-null    int32 \n",
      " 6   SibSp               891 non-null    int64 \n",
      " 7   Parch               891 non-null    int64 \n",
      " 8   Ticket              891 non-null    object\n",
      " 9   Fare                891 non-null    int32 \n",
      " 10  Cabin               204 non-null    object\n",
      " 11  Embarked            891 non-null    object\n",
      " 12  Sex_binario         891 non-null    int64 \n",
      " 13  Nome_contem_Miss    891 non-null    int32 \n",
      " 14  Nome_contem_Mrs     891 non-null    int32 \n",
      " 15  Nome_contem_Master  891 non-null    int32 \n",
      " 16  Nome_contem_Col     891 non-null    int32 \n",
      " 17  Nome_contem_Major   891 non-null    int32 \n",
      " 18  Nome_contem_Mr      891 non-null    int32 \n",
      " 19  Embarked_S          891 non-null    int32 \n",
      " 20  Embarked_C          891 non-null    int32 \n",
      "dtypes: int32(10), int64(6), object(5)\n",
      "memory usage: 111.5+ KB\n"
     ]
    }
   ],
   "metadata": {}
  },
  {
   "cell_type": "code",
   "execution_count": 95,
   "source": [
    "variaveis = ['Sex_binario','Age','Pclass','SibSp','Parch','Fare',\r\n",
    "            'Embarked_S','Embarked_C','Nome_contem_Miss',\r\n",
    "            'Nome_contem_Mrs','Nome_contem_Master','Nome_contem_Col',\r\n",
    "            'Nome_contem_Major','Nome_contem_Mr']"
   ],
   "outputs": [],
   "metadata": {}
  },
  {
   "cell_type": "code",
   "execution_count": 96,
   "source": [
    "X = df_train[variaveis]\r\n",
    "Y = df_train['Survived']"
   ],
   "outputs": [],
   "metadata": {}
  },
  {
   "cell_type": "code",
   "execution_count": 97,
   "source": [
    "X.isnull().sum()"
   ],
   "outputs": [
    {
     "output_type": "execute_result",
     "data": {
      "text/plain": [
       "Sex_binario           0\n",
       "Age                   0\n",
       "Pclass                0\n",
       "SibSp                 0\n",
       "Parch                 0\n",
       "Fare                  0\n",
       "Embarked_S            0\n",
       "Embarked_C            0\n",
       "Nome_contem_Miss      0\n",
       "Nome_contem_Mrs       0\n",
       "Nome_contem_Master    0\n",
       "Nome_contem_Col       0\n",
       "Nome_contem_Major     0\n",
       "Nome_contem_Mr        0\n",
       "dtype: int64"
      ]
     },
     "metadata": {},
     "execution_count": 97
    }
   ],
   "metadata": {}
  },
  {
   "cell_type": "code",
   "execution_count": 98,
   "source": [
    "X_test = df_test[variaveis]"
   ],
   "outputs": [],
   "metadata": {}
  },
  {
   "cell_type": "code",
   "execution_count": 99,
   "source": [
    "X_test.isnull().sum()"
   ],
   "outputs": [
    {
     "output_type": "execute_result",
     "data": {
      "text/plain": [
       "Sex_binario           0\n",
       "Age                   0\n",
       "Pclass                0\n",
       "SibSp                 0\n",
       "Parch                 0\n",
       "Fare                  0\n",
       "Embarked_S            0\n",
       "Embarked_C            0\n",
       "Nome_contem_Miss      0\n",
       "Nome_contem_Mrs       0\n",
       "Nome_contem_Master    0\n",
       "Nome_contem_Col       0\n",
       "Nome_contem_Major     0\n",
       "Nome_contem_Mr        0\n",
       "dtype: int64"
      ]
     },
     "metadata": {},
     "execution_count": 99
    }
   ],
   "metadata": {}
  },
  {
   "cell_type": "code",
   "execution_count": 100,
   "source": [
    "import warnings\r\n",
    "warnings.filterwarnings(\"ignore\")"
   ],
   "outputs": [],
   "metadata": {}
  },
  {
   "cell_type": "code",
   "execution_count": 101,
   "source": [
    "#Usando o repeated\r\n",
    "kf = RepeatedKFold(n_splits=2,n_repeats=10,random_state=10)\r\n",
    "#Lista com as acurárias\r\n",
    "resultados1 = []\r\n",
    "resultados2 = []\r\n",
    "resultados3 = []\r\n",
    "resultados4 = []\r\n",
    "resultados5 = []\r\n",
    "resultados6 = []\r\n",
    "resultados7 = []\r\n",
    "\r\n",
    "#Modelos\r\n",
    "modelo_Lin = linear_model.SGDClassifier(max_iter=5, tol=None,random_state=0)\r\n",
    "modelo_LR = LogisticRegression(solver='liblinear',random_state=0)\r\n",
    "modelo_RF = RandomForestClassifier(n_estimators=400,n_jobs=-1,random_state=0)\r\n",
    "modelo_Pe = Perceptron(max_iter=5,random_state=0)\r\n",
    "modelo_AD = DecisionTreeClassifier(random_state=0)\r\n",
    "modelo_SVM = SVC(kernel='rbf', gamma='scale', random_state=0)\r\n",
    "modelo_Gauss = GaussianNB()\r\n",
    "\r\n",
    "for linhas_treino, linhas_valid in kf.split(X):\r\n",
    "    print('Treino:', linhas_treino.shape[0])\r\n",
    "    print('Validação:', linhas_valid.shape[0])\r\n",
    "    \r\n",
    "    #Pegando as linhas manualmente para X_treino e X_valid\r\n",
    "    X_treino, X_valid = X.iloc[linhas_treino], X.iloc[linhas_valid]\r\n",
    "    #print(X_treino)\r\n",
    "    #Pegando as linhas manualmente para Y_treino e Y_valid\r\n",
    "    Y_treino, Y_valid = Y.iloc[linhas_treino], Y.iloc[linhas_valid]\r\n",
    "    \r\n",
    "    #Treinando o modelo\r\n",
    "    modelo_Lin.fit(X_treino,Y_treino)\r\n",
    "    modelo_LR.fit(X_treino,Y_treino)\r\n",
    "    modelo_RF.fit(X_treino,Y_treino)\r\n",
    "    modelo_Pe.fit(X_treino,Y_treino)\r\n",
    "    modelo_AD.fit(X_treino,Y_treino)\r\n",
    "    modelo_SVM.fit(X_treino,Y_treino)\r\n",
    "    modelo_Gauss.fit(X_treino,Y_treino)\r\n",
    "    \r\n",
    "    #Predizendo agora com este modelo\r\n",
    "    y_Lin = modelo_Lin.predict(X_valid)\r\n",
    "    y_LR = modelo_LR.predict(X_valid)\r\n",
    "    y_RF = modelo_RF.predict(X_valid)\r\n",
    "    y_Pe = modelo_Pe.predict(X_valid)\r\n",
    "    y_AD = modelo_AD.predict(X_valid)\r\n",
    "    y_SVM = modelo_SVM.predict(X_valid)\r\n",
    "    y_Gauss = modelo_Gauss.predict(X_valid)\r\n",
    "\r\n",
    "    #Calculando a acurácia do modelo\r\n",
    "    acc1 = np.mean(Y_valid == y_Lin)\r\n",
    "    acc2= np.mean(Y_valid == y_LR)\r\n",
    "    acc3 = np.mean(Y_valid == y_RF)\r\n",
    "    acc4= np.mean(Y_valid == y_Pe)\r\n",
    "    acc5 = np.mean(Y_valid == y_AD)\r\n",
    "    acc6= np.mean(Y_valid == y_SVM)\r\n",
    "    acc7 = np.mean(Y_valid == y_Gauss)\r\n",
    "    resultados1.append(acc1)\r\n",
    "    resultados2.append(acc2)\r\n",
    "    resultados3.append(acc3)\r\n",
    "    resultados4.append(acc4)\r\n",
    "    resultados5.append(acc5)\r\n",
    "    resultados6.append(acc6)\r\n",
    "    resultados7.append(acc7)\r\n",
    "\r\n",
    "    #Vendo a acurácia de cada um\r\n",
    "    print(f'A acurácia do modelos modelos são {[acc1,acc2,acc3,acc4,acc5,acc6,acc7]}')"
   ],
   "outputs": [
    {
     "output_type": "stream",
     "name": "stdout",
     "text": [
      "Treino: 445\n",
      "Validação: 446\n",
      "A acurácia do modelos modelos são [0.6367713004484304, 0.827354260089686, 0.7847533632286996, 0.6367713004484304, 0.7331838565022422, 0.6905829596412556, 0.8116591928251121]\n",
      "Treino: 446\n",
      "Validação: 445\n",
      "A acurácia do modelos modelos são [0.5955056179775281, 0.8, 0.7820224719101123, 0.5955056179775281, 0.7595505617977528, 0.6382022471910113, 0.7707865168539326]\n",
      "Treino: 445\n",
      "Validação: 446\n",
      "A acurácia do modelos modelos são [0.6121076233183856, 0.8318385650224215, 0.8251121076233184, 0.6704035874439462, 0.7511210762331838, 0.6905829596412556, 0.7017937219730942]\n",
      "Treino: 446\n",
      "Validação: 445\n",
      "A acurácia do modelos modelos são [0.7235955056179775, 0.8067415730337079, 0.7820224719101123, 0.6853932584269663, 0.7640449438202247, 0.6494382022471911, 0.7707865168539326]\n",
      "Treino: 445\n",
      "Validação: 446\n",
      "A acurácia do modelos modelos são [0.7466367713004485, 0.820627802690583, 0.8071748878923767, 0.7466367713004485, 0.7892376681614349, 0.6771300448430493, 0.7825112107623319]\n",
      "Treino: 446\n",
      "Validação: 445\n",
      "A acurácia do modelos modelos são [0.5955056179775281, 0.8112359550561797, 0.8044943820224719, 0.5955056179775281, 0.7617977528089888, 0.6449438202247191, 0.8179775280898877]\n",
      "Treino: 445\n",
      "Validação: 446\n",
      "A acurácia do modelos modelos são [0.7062780269058296, 0.8251121076233184, 0.8094170403587444, 0.7107623318385651, 0.7533632286995515, 0.6928251121076233, 0.7937219730941704]\n",
      "Treino: 446\n",
      "Validação: 445\n",
      "A acurácia do modelos modelos são [0.4134831460674157, 0.8112359550561797, 0.7865168539325843, 0.40224719101123596, 0.7528089887640449, 0.6539325842696629, 0.8112359550561797]\n",
      "Treino: 445\n",
      "Validação: 446\n",
      "A acurácia do modelos modelos são [0.3968609865470852, 0.827354260089686, 0.8116591928251121, 0.3968609865470852, 0.7982062780269058, 0.672645739910314, 0.7825112107623319]\n",
      "Treino: 446\n",
      "Validação: 445\n",
      "A acurácia do modelos modelos são [0.6808988764044944, 0.8067415730337079, 0.797752808988764, 0.6921348314606741, 0.7707865168539326, 0.6808988764044944, 0.7730337078651686]\n",
      "Treino: 445\n",
      "Validação: 446\n",
      "A acurácia do modelos modelos são [0.6973094170403588, 0.8228699551569507, 0.7982062780269058, 0.6076233183856502, 0.7511210762331838, 0.6524663677130045, 0.804932735426009]\n",
      "Treino: 446\n",
      "Validação: 445\n",
      "A acurácia do modelos modelos são [0.36404494382022473, 0.8247191011235955, 0.7932584269662921, 0.3685393258426966, 0.7303370786516854, 0.6853932584269663, 0.8044943820224719]\n",
      "Treino: 445\n",
      "Validação: 446\n",
      "A acurácia do modelos modelos são [0.6816143497757847, 0.8430493273542601, 0.8116591928251121, 0.672645739910314, 0.7690582959641256, 0.679372197309417, 0.7197309417040358]\n",
      "Treino: 446\n",
      "Validação: 445\n",
      "A acurácia do modelos modelos são [0.7370786516853932, 0.8112359550561797, 0.802247191011236, 0.6921348314606741, 0.7707865168539326, 0.6584269662921348, 0.7730337078651686]\n",
      "Treino: 445\n",
      "Validação: 446\n",
      "A acurácia do modelos modelos são [0.7556053811659192, 0.8228699551569507, 0.7937219730941704, 0.7600896860986547, 0.7488789237668162, 0.6636771300448431, 0.7511210762331838]\n",
      "Treino: 446\n",
      "Validação: 445\n",
      "A acurácia do modelos modelos são [0.6292134831460674, 0.8179775280898877, 0.8, 0.6292134831460674, 0.7707865168539326, 0.6764044943820224, 0.38202247191011235]\n",
      "Treino: 445\n",
      "Validação: 446\n",
      "A acurácia do modelos modelos são [0.625560538116592, 0.8452914798206278, 0.8251121076233184, 0.625560538116592, 0.7937219730941704, 0.6838565022421524, 0.804932735426009]\n",
      "Treino: 446\n",
      "Validação: 445\n",
      "A acurácia do modelos modelos são [0.40898876404494383, 0.8157303370786517, 0.802247191011236, 0.40898876404494383, 0.7685393258426966, 0.6741573033707865, 0.7955056179775281]\n",
      "Treino: 445\n",
      "Validação: 446\n",
      "A acurácia do modelos modelos são [0.679372197309417, 0.827354260089686, 0.7825112107623319, 0.7399103139013453, 0.7443946188340808, 0.6860986547085202, 0.8004484304932735]\n",
      "Treino: 446\n",
      "Validação: 445\n",
      "A acurácia do modelos modelos são [0.6719101123595506, 0.8269662921348314, 0.8, 0.6943820224719102, 0.7460674157303371, 0.6561797752808989, 0.797752808988764]\n"
     ]
    }
   ],
   "metadata": {}
  },
  {
   "cell_type": "code",
   "execution_count": 102,
   "source": [
    "#Modelos\r\n",
    "resultados = [np.mean(resultados1),np.mean(resultados2),\r\n",
    "                np.mean(resultados3),np.mean(resultados4),np.mean(resultados5),np.mean(resultados5),np.mean(resultados7)]\r\n",
    "print(resultados)"
   ],
   "outputs": [
    {
     "output_type": "stream",
     "name": "stdout",
     "text": [
      "[0.6179170655514687, 0.8213153121378547, 0.799994457600645, 0.6165654758905628, 0.7613896306746611, 0.7613896306746611, 0.7624996221091349]\n"
     ]
    }
   ],
   "metadata": {}
  },
  {
   "cell_type": "code",
   "execution_count": 103,
   "source": [
    "#A regressão Logística apresentou os melhores modelos"
   ],
   "outputs": [],
   "metadata": {}
  },
  {
   "cell_type": "code",
   "execution_count": 104,
   "source": [
    "#Fazendo a predição do modelo\r\n",
    "y_predict_LR = modelo_LR.predict(X_test)"
   ],
   "outputs": [],
   "metadata": {}
  },
  {
   "cell_type": "code",
   "execution_count": 105,
   "source": [
    "#Criar a submission\r\n",
    "sub = pd.Series(y_predict_LR, index=df_test['PassengerId'], name='Survived')\r\n",
    "sub.shape"
   ],
   "outputs": [
    {
     "output_type": "execute_result",
     "data": {
      "text/plain": [
       "(418,)"
      ]
     },
     "metadata": {},
     "execution_count": 105
    }
   ],
   "metadata": {}
  },
  {
   "cell_type": "code",
   "execution_count": 106,
   "source": [
    "sub.to_csv('modelo_RL.csv',header=True)"
   ],
   "outputs": [],
   "metadata": {}
  },
  {
   "cell_type": "code",
   "execution_count": 165,
   "source": [
    "#Usando Grid Search para melhorar os modelos\r\n",
    "from sklearn.model_selection import GridSearchCV\r\n",
    "#parameters = {'penalty':('l1', 'l2', 'elasticnet', 'none'), 'C':list(range(-10,10,1)), 'solver':('newton-cg', 'lbfgs', 'liblinear', 'sag', 'saga')}\r\n",
    "parameters = {'penalty':('l1', 'l2', 'elasticnet', 'none'), 'C':np.logspace(-3,3,7), 'solver':('newton-cg', 'lbfgs', 'liblinear', 'sag', 'saga')}\r\n",
    "grid = GridSearchCV(lr,parameters, cv=10, scoring='accuracy')"
   ],
   "outputs": [],
   "metadata": {}
  },
  {
   "cell_type": "code",
   "execution_count": 166,
   "source": [
    "#Treinar o modelo\r\n",
    "grid.fit(X,Y)"
   ],
   "outputs": [
    {
     "output_type": "execute_result",
     "data": {
      "text/plain": [
       "GridSearchCV(cv=10, estimator=LogisticRegression(),\n",
       "             param_grid={'C': array([1.e-03, 1.e-02, 1.e-01, 1.e+00, 1.e+01, 1.e+02, 1.e+03]),\n",
       "                         'penalty': ('l1', 'l2', 'elasticnet', 'none'),\n",
       "                         'solver': ('newton-cg', 'lbfgs', 'liblinear', 'sag',\n",
       "                                    'saga')},\n",
       "             scoring='accuracy')"
      ]
     },
     "metadata": {},
     "execution_count": 166
    }
   ],
   "metadata": {}
  },
  {
   "cell_type": "code",
   "execution_count": 167,
   "source": [
    "print(\"tuned hpyerparameters :(best parameters) \",grid.best_params_)\r\n",
    "print(\"accuracy :\",grid.best_score_)"
   ],
   "outputs": [
    {
     "output_type": "stream",
     "name": "stdout",
     "text": [
      "tuned hpyerparameters :(best parameters)  {'C': 1.0, 'penalty': 'l1', 'solver': 'liblinear'}\n",
      "accuracy : 0.8305118601747814\n"
     ]
    }
   ],
   "metadata": {}
  },
  {
   "cell_type": "code",
   "execution_count": 168,
   "source": [
    "ypredict_ModeloOTM = grid.predict(X_test)"
   ],
   "outputs": [],
   "metadata": {}
  },
  {
   "cell_type": "code",
   "execution_count": 169,
   "source": [
    "#Criar a submission\r\n",
    "sub = pd.Series(ypredict_ModeloOTM, index=df_test['PassengerId'], name='Survived')\r\n",
    "sub.shape"
   ],
   "outputs": [
    {
     "output_type": "execute_result",
     "data": {
      "text/plain": [
       "(418,)"
      ]
     },
     "metadata": {},
     "execution_count": 169
    }
   ],
   "metadata": {}
  },
  {
   "cell_type": "code",
   "execution_count": 170,
   "source": [
    "sub.to_csv('modelo_RL_New.csv',header=True)"
   ],
   "outputs": [],
   "metadata": {}
  }
 ],
 "metadata": {
  "orig_nbformat": 4,
  "language_info": {
   "name": "python",
   "version": "3.8.8",
   "mimetype": "text/x-python",
   "codemirror_mode": {
    "name": "ipython",
    "version": 3
   },
   "pygments_lexer": "ipython3",
   "nbconvert_exporter": "python",
   "file_extension": ".py"
  },
  "kernelspec": {
   "name": "python3",
   "display_name": "Python 3.8.8 64-bit ('base': conda)"
  },
  "interpreter": {
   "hash": "b597bd25da7dac138d9344e710794e1691511559f538dc1a339f86fe1f85e001"
  }
 },
 "nbformat": 4,
 "nbformat_minor": 2
}